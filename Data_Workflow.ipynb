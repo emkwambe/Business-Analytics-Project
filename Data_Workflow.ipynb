{
  "nbformat": 4,
  "nbformat_minor": 0,
  "metadata": {
    "colab": {
      "provenance": [],
      "authorship_tag": "ABX9TyPiVbpwomyaEy/j7+dGj6Yy",
      "include_colab_link": true
    },
    "kernelspec": {
      "name": "python3",
      "display_name": "Python 3"
    },
    "language_info": {
      "name": "python"
    }
  },
  "cells": [
    {
      "cell_type": "markdown",
      "metadata": {
        "id": "view-in-github",
        "colab_type": "text"
      },
      "source": [
        "<a href=\"https://colab.research.google.com/github/emkwambe/Business-Analytics-Project/blob/main/Data_Workflow.ipynb\" target=\"_parent\"><img src=\"https://colab.research.google.com/assets/colab-badge.svg\" alt=\"Open In Colab\"/></a>"
      ]
    },
    {
      "cell_type": "markdown",
      "source": [
        "## Data science Project Workfolow"
      ],
      "metadata": {
        "id": "rv-3JW5IfxtH"
      }
    },
    {
      "cell_type": "markdown",
      "source": [
        "##Data Ingestion"
      ],
      "metadata": {
        "id": "dy1JQgQEf6Uw"
      }
    },
    {
      "cell_type": "code",
      "execution_count": null,
      "metadata": {
        "id": "ZV5uotcGe98b"
      },
      "outputs": [],
      "source": []
    },
    {
      "cell_type": "markdown",
      "source": [
        "## EDA"
      ],
      "metadata": {
        "id": "sZ70gfLKfoZw"
      }
    },
    {
      "cell_type": "code",
      "source": [],
      "metadata": {
        "id": "_qNMAuHbfsCv"
      },
      "execution_count": null,
      "outputs": []
    },
    {
      "cell_type": "markdown",
      "source": [
        "## Modeling"
      ],
      "metadata": {
        "id": "nL8bdtZjfuWA"
      }
    },
    {
      "cell_type": "code",
      "source": [],
      "metadata": {
        "id": "1_z9YGJcft63"
      },
      "execution_count": null,
      "outputs": []
    },
    {
      "cell_type": "markdown",
      "source": [
        "## Conclusion"
      ],
      "metadata": {
        "id": "J8zyOnU-gv1i"
      }
    },
    {
      "cell_type": "code",
      "source": [],
      "metadata": {
        "id": "BwcLXv6rhC6f"
      },
      "execution_count": null,
      "outputs": []
    }
  ]
}